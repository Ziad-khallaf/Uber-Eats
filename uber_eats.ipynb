{
 "cells": [
  {
   "cell_type": "markdown",
   "id": "6682d9d8",
   "metadata": {},
   "source": [
    "# Table Of Content :-\n",
    "\n",
    "- 1- Import libraries\n",
    "- 2- Read the dataset file\n",
    "- 3- Show a brief of the dataframe\n",
    "- 4- Data Exploration \n",
    "- 5- Data cleaning\n",
    "- 6- Exploratory Data Analysis *EDA*\n",
    "- 7- Conclusion"
   ]
  },
  {
   "cell_type": "markdown",
   "id": "3808178b",
   "metadata": {},
   "source": [
    "# 1- import libraries :-"
   ]
  },
  {
   "cell_type": "code",
   "execution_count": 2,
   "id": "9228af97",
   "metadata": {},
   "outputs": [],
   "source": [
    "# to make Data Manpulation\n",
    "import pandas as pd\n",
    "import numpy  as np\n",
    "\n",
    "# to make Data Visuallization\n",
    "import matplotlib.pyplot as plt\n",
    "import seaborn as sns\n",
    "\n",
    "# to ignore the Errors\n",
    "import warnings\n",
    "warnings.filterwarnings(\"ignore\")"
   ]
  },
  {
   "cell_type": "markdown",
   "id": "865aeb9c",
   "metadata": {},
   "source": [
    "## 2- Read the dataset file:-"
   ]
  },
  {
   "cell_type": "code",
   "execution_count": 3,
   "id": "5f6a8a41",
   "metadata": {},
   "outputs": [],
   "source": [
    "# the Dataframe we will call as data\n",
    "data = pd.read_csv(r\"C:\\Users\\dell\\Desktop\\powerbi projects\\datasets\\uber_eatscsv\\uber_eat_rest.csv\")"
   ]
  },
  {
   "cell_type": "markdown",
   "id": "286b11bf",
   "metadata": {},
   "source": [
    "## 3- Show abrief of dataframe:-"
   ]
  },
  {
   "cell_type": "code",
   "execution_count": 4,
   "id": "a3a20720",
   "metadata": {},
   "outputs": [
    {
     "data": {
      "text/html": [
       "<div>\n",
       "<style scoped>\n",
       "    .dataframe tbody tr th:only-of-type {\n",
       "        vertical-align: middle;\n",
       "    }\n",
       "\n",
       "    .dataframe tbody tr th {\n",
       "        vertical-align: top;\n",
       "    }\n",
       "\n",
       "    .dataframe thead th {\n",
       "        text-align: right;\n",
       "    }\n",
       "</style>\n",
       "<table border=\"1\" class=\"dataframe\">\n",
       "  <thead>\n",
       "    <tr style=\"text-align: right;\">\n",
       "      <th></th>\n",
       "      <th>id</th>\n",
       "      <th>position</th>\n",
       "      <th>name</th>\n",
       "      <th>score</th>\n",
       "      <th>ratings</th>\n",
       "      <th>category</th>\n",
       "      <th>price_range</th>\n",
       "      <th>full_address</th>\n",
       "      <th>zip_code</th>\n",
       "      <th>lat</th>\n",
       "      <th>lng</th>\n",
       "    </tr>\n",
       "  </thead>\n",
       "  <tbody>\n",
       "    <tr>\n",
       "      <th>0</th>\n",
       "      <td>1</td>\n",
       "      <td>19</td>\n",
       "      <td>PJ Fresh (224 Daniel Payne Drive)</td>\n",
       "      <td>NaN</td>\n",
       "      <td>NaN</td>\n",
       "      <td>Burgers, American, Sandwiches</td>\n",
       "      <td>$</td>\n",
       "      <td>224 Daniel Payne Drive, Birmingham, AL, 35207</td>\n",
       "      <td>35207</td>\n",
       "      <td>33.562365</td>\n",
       "      <td>-86.830703</td>\n",
       "    </tr>\n",
       "    <tr>\n",
       "      <th>1</th>\n",
       "      <td>2</td>\n",
       "      <td>9</td>\n",
       "      <td>J' ti`'z Smoothie-N-Coffee Bar</td>\n",
       "      <td>NaN</td>\n",
       "      <td>NaN</td>\n",
       "      <td>Coffee and Tea, Breakfast and Brunch, Bubble Tea</td>\n",
       "      <td>NaN</td>\n",
       "      <td>1521 Pinson Valley Parkway, Birmingham, AL, 35217</td>\n",
       "      <td>35217</td>\n",
       "      <td>33.583640</td>\n",
       "      <td>-86.773330</td>\n",
       "    </tr>\n",
       "    <tr>\n",
       "      <th>2</th>\n",
       "      <td>3</td>\n",
       "      <td>6</td>\n",
       "      <td>Philly Fresh Cheesesteaks (541-B Graymont Ave)</td>\n",
       "      <td>NaN</td>\n",
       "      <td>NaN</td>\n",
       "      <td>American, Cheesesteak, Sandwiches, Alcohol</td>\n",
       "      <td>$</td>\n",
       "      <td>541-B Graymont Ave, Birmingham, AL, 35204</td>\n",
       "      <td>35204</td>\n",
       "      <td>33.509800</td>\n",
       "      <td>-86.854640</td>\n",
       "    </tr>\n",
       "    <tr>\n",
       "      <th>3</th>\n",
       "      <td>4</td>\n",
       "      <td>17</td>\n",
       "      <td>Papa Murphy's (1580 Montgomery Highway)</td>\n",
       "      <td>NaN</td>\n",
       "      <td>NaN</td>\n",
       "      <td>Pizza</td>\n",
       "      <td>$</td>\n",
       "      <td>1580 Montgomery Highway, Hoover, AL, 35226</td>\n",
       "      <td>35226</td>\n",
       "      <td>33.404439</td>\n",
       "      <td>-86.806614</td>\n",
       "    </tr>\n",
       "    <tr>\n",
       "      <th>4</th>\n",
       "      <td>5</td>\n",
       "      <td>162</td>\n",
       "      <td>Nelson Brothers Cafe (17th St N)</td>\n",
       "      <td>4.7</td>\n",
       "      <td>22.0</td>\n",
       "      <td>Breakfast and Brunch, Burgers, Sandwiches</td>\n",
       "      <td>NaN</td>\n",
       "      <td>314 17th St N, Birmingham, AL, 35203</td>\n",
       "      <td>35203</td>\n",
       "      <td>33.514730</td>\n",
       "      <td>-86.811700</td>\n",
       "    </tr>\n",
       "  </tbody>\n",
       "</table>\n",
       "</div>"
      ],
      "text/plain": [
       "   id  position                                            name  score  \\\n",
       "0   1        19               PJ Fresh (224 Daniel Payne Drive)    NaN   \n",
       "1   2         9                  J' ti`'z Smoothie-N-Coffee Bar    NaN   \n",
       "2   3         6  Philly Fresh Cheesesteaks (541-B Graymont Ave)    NaN   \n",
       "3   4        17         Papa Murphy's (1580 Montgomery Highway)    NaN   \n",
       "4   5       162                Nelson Brothers Cafe (17th St N)    4.7   \n",
       "\n",
       "   ratings                                          category price_range  \\\n",
       "0      NaN                     Burgers, American, Sandwiches           $   \n",
       "1      NaN  Coffee and Tea, Breakfast and Brunch, Bubble Tea         NaN   \n",
       "2      NaN        American, Cheesesteak, Sandwiches, Alcohol           $   \n",
       "3      NaN                                             Pizza           $   \n",
       "4     22.0         Breakfast and Brunch, Burgers, Sandwiches         NaN   \n",
       "\n",
       "                                        full_address zip_code        lat  \\\n",
       "0      224 Daniel Payne Drive, Birmingham, AL, 35207    35207  33.562365   \n",
       "1  1521 Pinson Valley Parkway, Birmingham, AL, 35217    35217  33.583640   \n",
       "2          541-B Graymont Ave, Birmingham, AL, 35204    35204  33.509800   \n",
       "3         1580 Montgomery Highway, Hoover, AL, 35226    35226  33.404439   \n",
       "4               314 17th St N, Birmingham, AL, 35203    35203  33.514730   \n",
       "\n",
       "         lng  \n",
       "0 -86.830703  \n",
       "1 -86.773330  \n",
       "2 -86.854640  \n",
       "3 -86.806614  \n",
       "4 -86.811700  "
      ]
     },
     "execution_count": 4,
     "metadata": {},
     "output_type": "execute_result"
    }
   ],
   "source": [
    "# show top 5 row with all columns\n",
    "data.head()"
   ]
  },
  {
   "cell_type": "code",
   "execution_count": 86,
   "id": "901133bd",
   "metadata": {},
   "outputs": [
    {
     "data": {
      "text/html": [
       "<div>\n",
       "<style scoped>\n",
       "    .dataframe tbody tr th:only-of-type {\n",
       "        vertical-align: middle;\n",
       "    }\n",
       "\n",
       "    .dataframe tbody tr th {\n",
       "        vertical-align: top;\n",
       "    }\n",
       "\n",
       "    .dataframe thead th {\n",
       "        text-align: right;\n",
       "    }\n",
       "</style>\n",
       "<table border=\"1\" class=\"dataframe\">\n",
       "  <thead>\n",
       "    <tr style=\"text-align: right;\">\n",
       "      <th></th>\n",
       "      <th>id</th>\n",
       "      <th>position</th>\n",
       "      <th>name</th>\n",
       "      <th>score</th>\n",
       "      <th>ratings</th>\n",
       "      <th>category</th>\n",
       "      <th>price_range</th>\n",
       "      <th>full_address</th>\n",
       "      <th>zip_code</th>\n",
       "      <th>lat</th>\n",
       "      <th>lng</th>\n",
       "    </tr>\n",
       "  </thead>\n",
       "  <tbody>\n",
       "    <tr>\n",
       "      <th>0</th>\n",
       "      <td>1</td>\n",
       "      <td>19</td>\n",
       "      <td>PJ Fresh (224 Daniel Payne Drive)</td>\n",
       "      <td>NaN</td>\n",
       "      <td>NaN</td>\n",
       "      <td>Burgers, American, Sandwiches</td>\n",
       "      <td>$</td>\n",
       "      <td>224 Daniel Payne Drive, Birmingham, AL, 35207</td>\n",
       "      <td>35207</td>\n",
       "      <td>33.562365</td>\n",
       "      <td>-86.830703</td>\n",
       "    </tr>\n",
       "    <tr>\n",
       "      <th>1</th>\n",
       "      <td>2</td>\n",
       "      <td>9</td>\n",
       "      <td>J' ti`'z Smoothie-N-Coffee Bar</td>\n",
       "      <td>NaN</td>\n",
       "      <td>NaN</td>\n",
       "      <td>Coffee and Tea, Breakfast and Brunch, Bubble Tea</td>\n",
       "      <td>NaN</td>\n",
       "      <td>1521 Pinson Valley Parkway, Birmingham, AL, 35217</td>\n",
       "      <td>35217</td>\n",
       "      <td>33.583640</td>\n",
       "      <td>-86.773330</td>\n",
       "    </tr>\n",
       "    <tr>\n",
       "      <th>2</th>\n",
       "      <td>3</td>\n",
       "      <td>6</td>\n",
       "      <td>Philly Fresh Cheesesteaks (541-B Graymont Ave)</td>\n",
       "      <td>NaN</td>\n",
       "      <td>NaN</td>\n",
       "      <td>American, Cheesesteak, Sandwiches, Alcohol</td>\n",
       "      <td>$</td>\n",
       "      <td>541-B Graymont Ave, Birmingham, AL, 35204</td>\n",
       "      <td>35204</td>\n",
       "      <td>33.509800</td>\n",
       "      <td>-86.854640</td>\n",
       "    </tr>\n",
       "    <tr>\n",
       "      <th>3</th>\n",
       "      <td>4</td>\n",
       "      <td>17</td>\n",
       "      <td>Papa Murphy's (1580 Montgomery Highway)</td>\n",
       "      <td>NaN</td>\n",
       "      <td>NaN</td>\n",
       "      <td>Pizza</td>\n",
       "      <td>$</td>\n",
       "      <td>1580 Montgomery Highway, Hoover, AL, 35226</td>\n",
       "      <td>35226</td>\n",
       "      <td>33.404439</td>\n",
       "      <td>-86.806614</td>\n",
       "    </tr>\n",
       "    <tr>\n",
       "      <th>4</th>\n",
       "      <td>5</td>\n",
       "      <td>162</td>\n",
       "      <td>Nelson Brothers Cafe (17th St N)</td>\n",
       "      <td>4.7</td>\n",
       "      <td>22.0</td>\n",
       "      <td>Breakfast and Brunch, Burgers, Sandwiches</td>\n",
       "      <td>NaN</td>\n",
       "      <td>314 17th St N, Birmingham, AL, 35203</td>\n",
       "      <td>35203</td>\n",
       "      <td>33.514730</td>\n",
       "      <td>-86.811700</td>\n",
       "    </tr>\n",
       "  </tbody>\n",
       "</table>\n",
       "</div>"
      ],
      "text/plain": [
       "   id  position                                            name  score  \\\n",
       "0   1        19               PJ Fresh (224 Daniel Payne Drive)    NaN   \n",
       "1   2         9                  J' ti`'z Smoothie-N-Coffee Bar    NaN   \n",
       "2   3         6  Philly Fresh Cheesesteaks (541-B Graymont Ave)    NaN   \n",
       "3   4        17         Papa Murphy's (1580 Montgomery Highway)    NaN   \n",
       "4   5       162                Nelson Brothers Cafe (17th St N)    4.7   \n",
       "\n",
       "   ratings                                          category price_range  \\\n",
       "0      NaN                     Burgers, American, Sandwiches           $   \n",
       "1      NaN  Coffee and Tea, Breakfast and Brunch, Bubble Tea         NaN   \n",
       "2      NaN        American, Cheesesteak, Sandwiches, Alcohol           $   \n",
       "3      NaN                                             Pizza           $   \n",
       "4     22.0         Breakfast and Brunch, Burgers, Sandwiches         NaN   \n",
       "\n",
       "                                        full_address zip_code        lat  \\\n",
       "0      224 Daniel Payne Drive, Birmingham, AL, 35207    35207  33.562365   \n",
       "1  1521 Pinson Valley Parkway, Birmingham, AL, 35217    35217  33.583640   \n",
       "2          541-B Graymont Ave, Birmingham, AL, 35204    35204  33.509800   \n",
       "3         1580 Montgomery Highway, Hoover, AL, 35226    35226  33.404439   \n",
       "4               314 17th St N, Birmingham, AL, 35203    35203  33.514730   \n",
       "\n",
       "         lng  \n",
       "0 -86.830703  \n",
       "1 -86.773330  \n",
       "2 -86.854640  \n",
       "3 -86.806614  \n",
       "4 -86.811700  "
      ]
     },
     "execution_count": 86,
     "metadata": {},
     "output_type": "execute_result"
    }
   ],
   "source": [
    "# show last 5 row with all columns\n",
    "data.head()"
   ]
  },
  {
   "cell_type": "markdown",
   "id": "44ee3383",
   "metadata": {},
   "source": [
    "## 4- Data Exploration:-"
   ]
  },
  {
   "cell_type": "code",
   "execution_count": 5,
   "id": "aab38203",
   "metadata": {},
   "outputs": [
    {
     "data": {
      "text/plain": [
       "(40227, 11)"
      ]
     },
     "execution_count": 5,
     "metadata": {},
     "output_type": "execute_result"
    }
   ],
   "source": [
    "# Get the data shape \n",
    "data.shape"
   ]
  },
  {
   "cell_type": "code",
   "execution_count": 88,
   "id": "c6717035",
   "metadata": {},
   "outputs": [
    {
     "data": {
      "text/plain": [
       "442497"
      ]
     },
     "execution_count": 88,
     "metadata": {},
     "output_type": "execute_result"
    }
   ],
   "source": [
    "# Get the data size \n",
    "data.size"
   ]
  },
  {
   "cell_type": "code",
   "execution_count": 89,
   "id": "2df41fbb",
   "metadata": {
    "scrolled": true
   },
   "outputs": [
    {
     "name": "stdout",
     "output_type": "stream",
     "text": [
      "<class 'pandas.core.frame.DataFrame'>\n",
      "RangeIndex: 40227 entries, 0 to 40226\n",
      "Data columns (total 11 columns):\n",
      " #   Column        Non-Null Count  Dtype  \n",
      "---  ------        --------------  -----  \n",
      " 0   id            40227 non-null  int64  \n",
      " 1   position      40227 non-null  int64  \n",
      " 2   name          40227 non-null  object \n",
      " 3   score         22254 non-null  float64\n",
      " 4   ratings       22254 non-null  float64\n",
      " 5   category      40204 non-null  object \n",
      " 6   price_range   33581 non-null  object \n",
      " 7   full_address  39949 non-null  object \n",
      " 8   zip_code      39940 non-null  object \n",
      " 9   lat           40227 non-null  float64\n",
      " 10  lng           40227 non-null  float64\n",
      "dtypes: float64(4), int64(2), object(5)\n",
      "memory usage: 3.4+ MB\n"
     ]
    }
   ],
   "source": [
    "# get more info about data\n",
    "data.info()"
   ]
  },
  {
   "cell_type": "markdown",
   "id": "ec4ac356",
   "metadata": {},
   "source": [
    "### 🚀 That mean the dataset is consets of 40227 rows (instances) and 11 column (feature)\n",
    "#### There are more than datatypes (int64, Float64, object) , so we have Numerical and Categorical Data"
   ]
  },
  {
   "cell_type": "code",
   "execution_count": 90,
   "id": "0092e8d0",
   "metadata": {
    "scrolled": true
   },
   "outputs": [
    {
     "data": {
      "text/html": [
       "<div>\n",
       "<style scoped>\n",
       "    .dataframe tbody tr th:only-of-type {\n",
       "        vertical-align: middle;\n",
       "    }\n",
       "\n",
       "    .dataframe tbody tr th {\n",
       "        vertical-align: top;\n",
       "    }\n",
       "\n",
       "    .dataframe thead th {\n",
       "        text-align: right;\n",
       "    }\n",
       "</style>\n",
       "<table border=\"1\" class=\"dataframe\">\n",
       "  <thead>\n",
       "    <tr style=\"text-align: right;\">\n",
       "      <th></th>\n",
       "      <th>id</th>\n",
       "      <th>position</th>\n",
       "      <th>score</th>\n",
       "      <th>ratings</th>\n",
       "      <th>lat</th>\n",
       "      <th>lng</th>\n",
       "    </tr>\n",
       "  </thead>\n",
       "  <tbody>\n",
       "    <tr>\n",
       "      <th>count</th>\n",
       "      <td>40227.000000</td>\n",
       "      <td>40227.000000</td>\n",
       "      <td>22254.000000</td>\n",
       "      <td>22254.000000</td>\n",
       "      <td>40227.000000</td>\n",
       "      <td>40227.000000</td>\n",
       "    </tr>\n",
       "    <tr>\n",
       "      <th>mean</th>\n",
       "      <td>20114.000000</td>\n",
       "      <td>79.529843</td>\n",
       "      <td>4.560996</td>\n",
       "      <td>74.870989</td>\n",
       "      <td>39.927033</td>\n",
       "      <td>-96.549713</td>\n",
       "    </tr>\n",
       "    <tr>\n",
       "      <th>std</th>\n",
       "      <td>11612.678976</td>\n",
       "      <td>77.611449</td>\n",
       "      <td>0.298041</td>\n",
       "      <td>72.381529</td>\n",
       "      <td>5.765774</td>\n",
       "      <td>17.961361</td>\n",
       "    </tr>\n",
       "    <tr>\n",
       "      <th>min</th>\n",
       "      <td>1.000000</td>\n",
       "      <td>1.000000</td>\n",
       "      <td>1.300000</td>\n",
       "      <td>10.000000</td>\n",
       "      <td>0.000000</td>\n",
       "      <td>-123.841240</td>\n",
       "    </tr>\n",
       "    <tr>\n",
       "      <th>25%</th>\n",
       "      <td>10057.500000</td>\n",
       "      <td>14.000000</td>\n",
       "      <td>4.400000</td>\n",
       "      <td>25.000000</td>\n",
       "      <td>37.082007</td>\n",
       "      <td>-113.587301</td>\n",
       "    </tr>\n",
       "    <tr>\n",
       "      <th>50%</th>\n",
       "      <td>20114.000000</td>\n",
       "      <td>51.000000</td>\n",
       "      <td>4.600000</td>\n",
       "      <td>51.000000</td>\n",
       "      <td>39.000990</td>\n",
       "      <td>-96.587547</td>\n",
       "    </tr>\n",
       "    <tr>\n",
       "      <th>75%</th>\n",
       "      <td>30170.500000</td>\n",
       "      <td>129.000000</td>\n",
       "      <td>4.800000</td>\n",
       "      <td>100.000000</td>\n",
       "      <td>45.493640</td>\n",
       "      <td>-77.528825</td>\n",
       "    </tr>\n",
       "    <tr>\n",
       "      <th>max</th>\n",
       "      <td>40227.000000</td>\n",
       "      <td>300.000000</td>\n",
       "      <td>5.000000</td>\n",
       "      <td>500.000000</td>\n",
       "      <td>48.963950</td>\n",
       "      <td>0.000000</td>\n",
       "    </tr>\n",
       "  </tbody>\n",
       "</table>\n",
       "</div>"
      ],
      "text/plain": [
       "                 id      position         score       ratings           lat  \\\n",
       "count  40227.000000  40227.000000  22254.000000  22254.000000  40227.000000   \n",
       "mean   20114.000000     79.529843      4.560996     74.870989     39.927033   \n",
       "std    11612.678976     77.611449      0.298041     72.381529      5.765774   \n",
       "min        1.000000      1.000000      1.300000     10.000000      0.000000   \n",
       "25%    10057.500000     14.000000      4.400000     25.000000     37.082007   \n",
       "50%    20114.000000     51.000000      4.600000     51.000000     39.000990   \n",
       "75%    30170.500000    129.000000      4.800000    100.000000     45.493640   \n",
       "max    40227.000000    300.000000      5.000000    500.000000     48.963950   \n",
       "\n",
       "                lng  \n",
       "count  40227.000000  \n",
       "mean     -96.549713  \n",
       "std       17.961361  \n",
       "min     -123.841240  \n",
       "25%     -113.587301  \n",
       "50%      -96.587547  \n",
       "75%      -77.528825  \n",
       "max        0.000000  "
      ]
     },
     "execution_count": 90,
     "metadata": {},
     "output_type": "execute_result"
    }
   ],
   "source": [
    "# Get more Statistical info about the Numerical data\n",
    "data.describe()"
   ]
  },
  {
   "cell_type": "code",
   "execution_count": 91,
   "id": "a06338e8",
   "metadata": {},
   "outputs": [
    {
     "data": {
      "text/plain": [
       "id              40227\n",
       "position          300\n",
       "name            38863\n",
       "score              33\n",
       "ratings           416\n",
       "category        10647\n",
       "price_range         4\n",
       "full_address    35302\n",
       "zip_code         2281\n",
       "lat             36780\n",
       "lng             36745\n",
       "dtype: int64"
      ]
     },
     "execution_count": 91,
     "metadata": {},
     "output_type": "execute_result"
    }
   ],
   "source": [
    "# Find how many unique values\n",
    "data.nunique()"
   ]
  },
  {
   "cell_type": "code",
   "execution_count": 92,
   "id": "061d7a98",
   "metadata": {},
   "outputs": [
    {
     "data": {
      "text/plain": [
       "Index(['id', 'position', 'name', 'score', 'ratings', 'category', 'price_range',\n",
       "       'full_address', 'zip_code', 'lat', 'lng'],\n",
       "      dtype='object')"
      ]
     },
     "execution_count": 92,
     "metadata": {},
     "output_type": "execute_result"
    }
   ],
   "source": [
    "# print All the Data columns\n",
    "data.columns"
   ]
  },
  {
   "cell_type": "code",
   "execution_count": 6,
   "id": "b02985c0",
   "metadata": {},
   "outputs": [
    {
     "data": {
      "text/plain": [
       "id                  0\n",
       "position            0\n",
       "name                0\n",
       "score           17973\n",
       "ratings         17973\n",
       "category           23\n",
       "price_range      6646\n",
       "full_address      278\n",
       "zip_code          287\n",
       "lat                 0\n",
       "lng                 0\n",
       "dtype: int64"
      ]
     },
     "execution_count": 6,
     "metadata": {},
     "output_type": "execute_result"
    }
   ],
   "source": [
    "# check null values \n",
    "data.isna().sum()"
   ]
  },
  {
   "cell_type": "markdown",
   "id": "5aeb6039",
   "metadata": {},
   "source": [
    "### 🔥: There are Missing Values , We should make Data cleaning "
   ]
  },
  {
   "cell_type": "markdown",
   "id": "b6a17eee",
   "metadata": {},
   "source": [
    "## 5- Data cleaning:-"
   ]
  },
  {
   "cell_type": "code",
   "execution_count": 7,
   "id": "6902ac22",
   "metadata": {},
   "outputs": [
    {
     "name": "stdout",
     "output_type": "stream",
     "text": [
      "\n",
      "Duplicates Rows: 0\n"
     ]
    }
   ],
   "source": [
    "# Check Duplicates \n",
    "print(\"\\nDuplicates Rows:\", data.duplicated().sum())"
   ]
  },
  {
   "cell_type": "code",
   "execution_count": 8,
   "id": "6b5333da",
   "metadata": {},
   "outputs": [
    {
     "data": {
      "text/plain": [
       "id                  0\n",
       "position            0\n",
       "name                0\n",
       "score           17973\n",
       "ratings         17973\n",
       "category           23\n",
       "price_range      6646\n",
       "full_address      278\n",
       "zip_code          287\n",
       "lat                 0\n",
       "lng                 0\n",
       "dtype: int64"
      ]
     },
     "execution_count": 8,
     "metadata": {},
     "output_type": "execute_result"
    }
   ],
   "source": [
    "# check null values \n",
    "data.isna().sum()"
   ]
  },
  {
   "cell_type": "markdown",
   "id": "bae04d23",
   "metadata": {},
   "source": [
    "#### - We have missing Values in : -   \n",
    "- 1- (score, ratings) which is numerical data  \n",
    "- 2- (category, price_range, full_address, zip_code) which is Categorical data "
   ]
  },
  {
   "cell_type": "markdown",
   "id": "fea0c068",
   "metadata": {},
   "source": [
    "#### - Lets Handle This Missing values:-"
   ]
  },
  {
   "cell_type": "markdown",
   "id": "37ef2ab2",
   "metadata": {},
   "source": [
    "- 1- numerical data   ----> fill with median (beacuse of using mean affected by outliers)\n",
    "- 2- Categorical data ----> fill (price_range) with Forward fill , drop (category, full_address, zip_code)"
   ]
  },
  {
   "cell_type": "code",
   "execution_count": 9,
   "id": "5b1ee0c4",
   "metadata": {},
   "outputs": [],
   "source": [
    "# create Data Dictionary to fill the missing values\n",
    "\n",
    "values = {\n",
    "           # Numerical data\n",
    "           'score'  : data['score'].median(),\n",
    "           'ratings': data['ratings'].median(),\n",
    "           # Categorical data\n",
    "           'price_range': data['price_range'].fillna(method='ffill') # forward fill\n",
    "         }"
   ]
  },
  {
   "cell_type": "code",
   "execution_count": 10,
   "id": "55fd08ea",
   "metadata": {
    "scrolled": true
   },
   "outputs": [],
   "source": [
    "# Use The Data Dictionary to fill missing Values And Save The Resualts\n",
    "data.fillna(value= values, inplace=True)"
   ]
  },
  {
   "cell_type": "markdown",
   "id": "ef0b7029",
   "metadata": {},
   "source": [
    "####  We filled all Missing Values, Lets delete the others (category, full_address, zip_code)"
   ]
  },
  {
   "cell_type": "code",
   "execution_count": 11,
   "id": "6aa26bd2",
   "metadata": {},
   "outputs": [],
   "source": [
    "# drop null missimg values and save the result \n",
    "data.dropna(inplace=True)"
   ]
  },
  {
   "cell_type": "code",
   "execution_count": 12,
   "id": "b9c11c11",
   "metadata": {
    "scrolled": false
   },
   "outputs": [
    {
     "data": {
      "text/plain": [
       "id              0\n",
       "position        0\n",
       "name            0\n",
       "score           0\n",
       "ratings         0\n",
       "category        0\n",
       "price_range     0\n",
       "full_address    0\n",
       "zip_code        0\n",
       "lat             0\n",
       "lng             0\n",
       "dtype: int64"
      ]
     },
     "execution_count": 12,
     "metadata": {},
     "output_type": "execute_result"
    }
   ],
   "source": [
    "# check null values \n",
    "data.isna().sum()"
   ]
  },
  {
   "cell_type": "markdown",
   "id": "804689a9",
   "metadata": {},
   "source": [
    "### There Are not any Missing Values "
   ]
  },
  {
   "cell_type": "markdown",
   "id": "1e371528",
   "metadata": {},
   "source": [
    "## ✅ Now The Data is cleaned And Ready For Exploratory Data Analysis (EDA) "
   ]
  },
  {
   "cell_type": "markdown",
   "id": "f0d31e88",
   "metadata": {},
   "source": [
    "## "
   ]
  },
  {
   "cell_type": "markdown",
   "id": "042f41a3",
   "metadata": {},
   "source": [
    "## 6- Exploratory Data Analysis:-"
   ]
  },
  {
   "cell_type": "code",
   "execution_count": 45,
   "id": "1268ed35",
   "metadata": {
    "scrolled": true
   },
   "outputs": [
    {
     "data": {
      "text/plain": [
       "Index(['id', 'position', 'name', 'score', 'ratings', 'category', 'price_range',\n",
       "       'full_address', 'zip_code', 'lat', 'lng'],\n",
       "      dtype='object')"
      ]
     },
     "execution_count": 45,
     "metadata": {},
     "output_type": "execute_result"
    }
   ],
   "source": [
    "data.columns"
   ]
  },
  {
   "cell_type": "code",
   "execution_count": 55,
   "id": "6dac66e4",
   "metadata": {},
   "outputs": [
    {
     "data": {
      "text/html": [
       "<div>\n",
       "<style scoped>\n",
       "    .dataframe tbody tr th:only-of-type {\n",
       "        vertical-align: middle;\n",
       "    }\n",
       "\n",
       "    .dataframe tbody tr th {\n",
       "        vertical-align: top;\n",
       "    }\n",
       "\n",
       "    .dataframe thead th {\n",
       "        text-align: right;\n",
       "    }\n",
       "</style>\n",
       "<table border=\"1\" class=\"dataframe\">\n",
       "  <thead>\n",
       "    <tr style=\"text-align: right;\">\n",
       "      <th></th>\n",
       "      <th>id</th>\n",
       "      <th>position</th>\n",
       "      <th>name</th>\n",
       "      <th>score</th>\n",
       "      <th>ratings</th>\n",
       "      <th>category</th>\n",
       "      <th>price_range</th>\n",
       "      <th>full_address</th>\n",
       "      <th>zip_code</th>\n",
       "      <th>lat</th>\n",
       "      <th>lng</th>\n",
       "    </tr>\n",
       "  </thead>\n",
       "  <tbody>\n",
       "    <tr>\n",
       "      <th>0</th>\n",
       "      <td>1</td>\n",
       "      <td>19</td>\n",
       "      <td>PJ Fresh (224 Daniel Payne Drive)</td>\n",
       "      <td>4.6</td>\n",
       "      <td>500</td>\n",
       "      <td>Burgers, American, Sandwiches</td>\n",
       "      <td>$</td>\n",
       "      <td>224 Daniel Payne Drive, Birmingham, AL, 35207</td>\n",
       "      <td>35207</td>\n",
       "      <td>33.562365</td>\n",
       "      <td>-86.830703</td>\n",
       "    </tr>\n",
       "    <tr>\n",
       "      <th>1</th>\n",
       "      <td>2</td>\n",
       "      <td>9</td>\n",
       "      <td>J' ti`'z Smoothie-N-Coffee Bar</td>\n",
       "      <td>4.6</td>\n",
       "      <td>500</td>\n",
       "      <td>Coffee and Tea, Breakfast and Brunch, Bubble Tea</td>\n",
       "      <td>$</td>\n",
       "      <td>1521 Pinson Valley Parkway, Birmingham, AL, 35217</td>\n",
       "      <td>35217</td>\n",
       "      <td>33.583640</td>\n",
       "      <td>-86.773330</td>\n",
       "    </tr>\n",
       "    <tr>\n",
       "      <th>2</th>\n",
       "      <td>3</td>\n",
       "      <td>6</td>\n",
       "      <td>Philly Fresh Cheesesteaks (541-B Graymont Ave)</td>\n",
       "      <td>4.6</td>\n",
       "      <td>500</td>\n",
       "      <td>American, Cheesesteak, Sandwiches, Alcohol</td>\n",
       "      <td>$</td>\n",
       "      <td>541-B Graymont Ave, Birmingham, AL, 35204</td>\n",
       "      <td>35204</td>\n",
       "      <td>33.509800</td>\n",
       "      <td>-86.854640</td>\n",
       "    </tr>\n",
       "    <tr>\n",
       "      <th>3</th>\n",
       "      <td>4</td>\n",
       "      <td>17</td>\n",
       "      <td>Papa Murphy's (1580 Montgomery Highway)</td>\n",
       "      <td>4.6</td>\n",
       "      <td>500</td>\n",
       "      <td>Pizza</td>\n",
       "      <td>$</td>\n",
       "      <td>1580 Montgomery Highway, Hoover, AL, 35226</td>\n",
       "      <td>35226</td>\n",
       "      <td>33.404439</td>\n",
       "      <td>-86.806614</td>\n",
       "    </tr>\n",
       "    <tr>\n",
       "      <th>4</th>\n",
       "      <td>5</td>\n",
       "      <td>162</td>\n",
       "      <td>Nelson Brothers Cafe (17th St N)</td>\n",
       "      <td>4.7</td>\n",
       "      <td>500</td>\n",
       "      <td>Breakfast and Brunch, Burgers, Sandwiches</td>\n",
       "      <td>$</td>\n",
       "      <td>314 17th St N, Birmingham, AL, 35203</td>\n",
       "      <td>35203</td>\n",
       "      <td>33.514730</td>\n",
       "      <td>-86.811700</td>\n",
       "    </tr>\n",
       "  </tbody>\n",
       "</table>\n",
       "</div>"
      ],
      "text/plain": [
       "   id  position                                            name  score  \\\n",
       "0   1        19               PJ Fresh (224 Daniel Payne Drive)    4.6   \n",
       "1   2         9                  J' ti`'z Smoothie-N-Coffee Bar    4.6   \n",
       "2   3         6  Philly Fresh Cheesesteaks (541-B Graymont Ave)    4.6   \n",
       "3   4        17         Papa Murphy's (1580 Montgomery Highway)    4.6   \n",
       "4   5       162                Nelson Brothers Cafe (17th St N)    4.7   \n",
       "\n",
       "   ratings                                          category price_range  \\\n",
       "0      500                     Burgers, American, Sandwiches           $   \n",
       "1      500  Coffee and Tea, Breakfast and Brunch, Bubble Tea           $   \n",
       "2      500        American, Cheesesteak, Sandwiches, Alcohol           $   \n",
       "3      500                                             Pizza           $   \n",
       "4      500         Breakfast and Brunch, Burgers, Sandwiches           $   \n",
       "\n",
       "                                        full_address zip_code        lat  \\\n",
       "0      224 Daniel Payne Drive, Birmingham, AL, 35207    35207  33.562365   \n",
       "1  1521 Pinson Valley Parkway, Birmingham, AL, 35217    35217  33.583640   \n",
       "2          541-B Graymont Ave, Birmingham, AL, 35204    35204  33.509800   \n",
       "3         1580 Montgomery Highway, Hoover, AL, 35226    35226  33.404439   \n",
       "4               314 17th St N, Birmingham, AL, 35203    35203  33.514730   \n",
       "\n",
       "         lng  \n",
       "0 -86.830703  \n",
       "1 -86.773330  \n",
       "2 -86.854640  \n",
       "3 -86.806614  \n",
       "4 -86.811700  "
      ]
     },
     "execution_count": 55,
     "metadata": {},
     "output_type": "execute_result"
    }
   ],
   "source": [
    "data.head()"
   ]
  },
  {
   "cell_type": "code",
   "execution_count": 70,
   "id": "ca1db4c8",
   "metadata": {},
   "outputs": [
    {
     "data": {
      "text/html": [
       "<div>\n",
       "<style scoped>\n",
       "    .dataframe tbody tr th:only-of-type {\n",
       "        vertical-align: middle;\n",
       "    }\n",
       "\n",
       "    .dataframe tbody tr th {\n",
       "        vertical-align: top;\n",
       "    }\n",
       "\n",
       "    .dataframe thead th {\n",
       "        text-align: right;\n",
       "    }\n",
       "</style>\n",
       "<table border=\"1\" class=\"dataframe\">\n",
       "  <thead>\n",
       "    <tr style=\"text-align: right;\">\n",
       "      <th></th>\n",
       "      <th>id</th>\n",
       "      <th>position</th>\n",
       "      <th>name</th>\n",
       "      <th>score</th>\n",
       "      <th>ratings</th>\n",
       "      <th>category</th>\n",
       "      <th>price_range</th>\n",
       "      <th>full_address</th>\n",
       "      <th>zip_code</th>\n",
       "      <th>lat</th>\n",
       "      <th>lng</th>\n",
       "    </tr>\n",
       "  </thead>\n",
       "  <tbody>\n",
       "    <tr>\n",
       "      <th>15</th>\n",
       "      <td>16</td>\n",
       "      <td>88</td>\n",
       "      <td>Jeni's Splendid Ice Cream (Pepper Place)</td>\n",
       "      <td>5.0</td>\n",
       "      <td>500</td>\n",
       "      <td>Ice Cream &amp;amp; Frozen Yogurt, Comfort Food, D...</td>\n",
       "      <td>$$$</td>\n",
       "      <td>219 29th St S, Birmingham, AL, 35233</td>\n",
       "      <td>35233</td>\n",
       "      <td>33.516600</td>\n",
       "      <td>-86.789950</td>\n",
       "    </tr>\n",
       "    <tr>\n",
       "      <th>13594</th>\n",
       "      <td>13595</td>\n",
       "      <td>209</td>\n",
       "      <td>Vego Eatz</td>\n",
       "      <td>5.0</td>\n",
       "      <td>500</td>\n",
       "      <td>Vegetarian, Healthy</td>\n",
       "      <td>$$$</td>\n",
       "      <td>203 W Pioneer Ave, Puyallup, WA, 98371</td>\n",
       "      <td>98371</td>\n",
       "      <td>47.190590</td>\n",
       "      <td>-122.295470</td>\n",
       "    </tr>\n",
       "    <tr>\n",
       "      <th>18947</th>\n",
       "      <td>18948</td>\n",
       "      <td>54</td>\n",
       "      <td>Jeni's Splendid Ice Creams (Old Town Alexandria)</td>\n",
       "      <td>5.0</td>\n",
       "      <td>500</td>\n",
       "      <td>Ice Cream &amp;amp; Frozen Yogurt, Comfort Food, D...</td>\n",
       "      <td>$$$</td>\n",
       "      <td>102 South Patrick Street, Alexandria, VA, 22314</td>\n",
       "      <td>22314</td>\n",
       "      <td>38.805220</td>\n",
       "      <td>-77.050317</td>\n",
       "    </tr>\n",
       "    <tr>\n",
       "      <th>20017</th>\n",
       "      <td>20018</td>\n",
       "      <td>219</td>\n",
       "      <td>Laporta's Restaurant</td>\n",
       "      <td>5.0</td>\n",
       "      <td>500</td>\n",
       "      <td>American, Burgers, Pasta</td>\n",
       "      <td>$$$</td>\n",
       "      <td>1600 Duke St, Alexandria, VA, 22314</td>\n",
       "      <td>22314</td>\n",
       "      <td>38.803849</td>\n",
       "      <td>-77.058314</td>\n",
       "    </tr>\n",
       "    <tr>\n",
       "      <th>20619</th>\n",
       "      <td>20620</td>\n",
       "      <td>59</td>\n",
       "      <td>Bar Charley</td>\n",
       "      <td>5.0</td>\n",
       "      <td>500</td>\n",
       "      <td>American</td>\n",
       "      <td>$$$</td>\n",
       "      <td>1825 18th St NW, Washington, DC, 20009</td>\n",
       "      <td>20009</td>\n",
       "      <td>38.915028</td>\n",
       "      <td>-77.041450</td>\n",
       "    </tr>\n",
       "    <tr>\n",
       "      <th>26444</th>\n",
       "      <td>26445</td>\n",
       "      <td>92</td>\n",
       "      <td>Jeni's Ice Cream Bethesda</td>\n",
       "      <td>5.0</td>\n",
       "      <td>500</td>\n",
       "      <td>Ice Cream &amp;amp; Frozen Yogurt, Comfort Food, D...</td>\n",
       "      <td>$$$</td>\n",
       "      <td>4918 Elm Street, Bethesda, MD, 20814</td>\n",
       "      <td>20814</td>\n",
       "      <td>38.982007</td>\n",
       "      <td>-77.097036</td>\n",
       "    </tr>\n",
       "    <tr>\n",
       "      <th>28976</th>\n",
       "      <td>28977</td>\n",
       "      <td>63</td>\n",
       "      <td>Jeni's Barracks Row</td>\n",
       "      <td>5.0</td>\n",
       "      <td>500</td>\n",
       "      <td>Ice Cream &amp;amp; Frozen Yogurt, Comfort Food, D...</td>\n",
       "      <td>$$$</td>\n",
       "      <td>526 8th Street Southeast, Washington, DC, 20003</td>\n",
       "      <td>20003</td>\n",
       "      <td>38.881810</td>\n",
       "      <td>-76.994580</td>\n",
       "    </tr>\n",
       "  </tbody>\n",
       "</table>\n",
       "</div>"
      ],
      "text/plain": [
       "          id  position                                              name  \\\n",
       "15        16        88          Jeni's Splendid Ice Cream (Pepper Place)   \n",
       "13594  13595       209                                         Vego Eatz   \n",
       "18947  18948        54  Jeni's Splendid Ice Creams (Old Town Alexandria)   \n",
       "20017  20018       219                              Laporta's Restaurant   \n",
       "20619  20620        59                                       Bar Charley   \n",
       "26444  26445        92                         Jeni's Ice Cream Bethesda   \n",
       "28976  28977        63                               Jeni's Barracks Row   \n",
       "\n",
       "       score  ratings                                           category  \\\n",
       "15       5.0      500  Ice Cream &amp; Frozen Yogurt, Comfort Food, D...   \n",
       "13594    5.0      500                                Vegetarian, Healthy   \n",
       "18947    5.0      500  Ice Cream &amp; Frozen Yogurt, Comfort Food, D...   \n",
       "20017    5.0      500                           American, Burgers, Pasta   \n",
       "20619    5.0      500                                           American   \n",
       "26444    5.0      500  Ice Cream &amp; Frozen Yogurt, Comfort Food, D...   \n",
       "28976    5.0      500  Ice Cream &amp; Frozen Yogurt, Comfort Food, D...   \n",
       "\n",
       "      price_range                                     full_address zip_code  \\\n",
       "15            $$$             219 29th St S, Birmingham, AL, 35233    35233   \n",
       "13594         $$$           203 W Pioneer Ave, Puyallup, WA, 98371    98371   \n",
       "18947         $$$  102 South Patrick Street, Alexandria, VA, 22314    22314   \n",
       "20017         $$$              1600 Duke St, Alexandria, VA, 22314    22314   \n",
       "20619         $$$           1825 18th St NW, Washington, DC, 20009    20009   \n",
       "26444         $$$             4918 Elm Street, Bethesda, MD, 20814    20814   \n",
       "28976         $$$  526 8th Street Southeast, Washington, DC, 20003    20003   \n",
       "\n",
       "             lat         lng  \n",
       "15     33.516600  -86.789950  \n",
       "13594  47.190590 -122.295470  \n",
       "18947  38.805220  -77.050317  \n",
       "20017  38.803849  -77.058314  \n",
       "20619  38.915028  -77.041450  \n",
       "26444  38.982007  -77.097036  \n",
       "28976  38.881810  -76.994580  "
      ]
     },
     "execution_count": 70,
     "metadata": {},
     "output_type": "execute_result"
    }
   ],
   "source": [
    "data[ (data['price_range']=='$$$') & (data['score']==5.0) ].sort_values(by='id')"
   ]
  },
  {
   "cell_type": "markdown",
   "id": "f19653c1",
   "metadata": {},
   "source": [
    "#### - Lets Show The Relationships Between Variables"
   ]
  },
  {
   "cell_type": "code",
   "execution_count": 13,
   "id": "bbbaf7dd",
   "metadata": {},
   "outputs": [
    {
     "data": {
      "image/png": "[encoded data removed]",
      "text/plain": [
       "<Figure size 800x600 with 2 Axes>"
      ]
     },
     "metadata": {},
     "output_type": "display_data"
    }
   ],
   "source": [
    "# Calculate Correlation\n",
    "corr = data.drop(['ratings'], axis=1).corr()\n",
    "\n",
    "# make the figure size\n",
    "plt.figure(figsize=(8, 6))\n",
    "sns.heatmap(corr, annot=True, cmap='coolwarm')  # Add correlation values\n",
    "\n",
    "plt.title(\"Correlation Heatmap\")      # Add title\n",
    "plt.show()"
   ]
  },
  {
   "cell_type": "code",
   "execution_count": 16,
   "id": "e0ace0af",
   "metadata": {},
   "outputs": [
    {
     "data": {
      "image/png": "[encoded data removed]",
      "text/plain": [
       "<Figure size 2500x2500 with 6 Axes>"
      ]
     },
     "metadata": {},
     "output_type": "display_data"
    }
   ],
   "source": [
    "data.hist(column=['score','ratings','position','lat','lng'],figsize=(25,25),bins=25)\n",
    "plt.show()"
   ]
  },
  {
   "cell_type": "code",
   "execution_count": 150,
   "id": "1f79959d",
   "metadata": {},
   "outputs": [
    {
     "data": {
      "image/png": "[encoded data removed]",
      "text/plain": [
       "<Figure size 1000x500 with 1 Axes>"
      ]
     },
     "metadata": {},
     "output_type": "display_data"
    }
   ],
   "source": [
    "#Check Outlires For numerical columns by boxpolt\n",
    "num_cols = data.columns\n",
    "\n",
    "plt.figure(figsize=(10, 5))\n",
    "sns.boxplot(data=data[num_cols], orient='v')\n",
    "\n",
    "plt.title('Boxplot for Outlier Detection')\n",
    "plt.show()"
   ]
  },
  {
   "cell_type": "code",
   "execution_count": 153,
   "id": "47ddfd1f",
   "metadata": {},
   "outputs": [
    {
     "data": {
      "text/plain": [
       "array(['Burgers, American, Sandwiches',\n",
       "       'Coffee and Tea, Breakfast and Brunch, Bubble Tea',\n",
       "       'American, Cheesesteak, Sandwiches, Alcohol', ...,\n",
       "       'Sushi, Asian, Japanese, Exclusive to Eats, Group Friendly',\n",
       "       'Mediterranean, Gluten Free Friendly, Allergy Friendly, Family Meals, Turkish, Greek, Middle Eastern, Salads, Vegan Friendly, Vegetarian Friendly, Local Specialities',\n",
       "       'Chinese, Asian, Asian Fusion, Family Friendly, Group Friendly'],\n",
       "      dtype=object)"
      ]
     },
     "execution_count": 153,
     "metadata": {},
     "output_type": "execute_result"
    }
   ],
   "source": [
    "# what is cateogries of resturants \n",
    "data['category'].values"
   ]
  },
  {
   "cell_type": "code",
   "execution_count": 169,
   "id": "ea47104a",
   "metadata": {
    "scrolled": false
   },
   "outputs": [
    {
     "data": {
      "text/html": [
       "<div>\n",
       "<style scoped>\n",
       "    .dataframe tbody tr th:only-of-type {\n",
       "        vertical-align: middle;\n",
       "    }\n",
       "\n",
       "    .dataframe tbody tr th {\n",
       "        vertical-align: top;\n",
       "    }\n",
       "\n",
       "    .dataframe thead th {\n",
       "        text-align: right;\n",
       "    }\n",
       "</style>\n",
       "<table border=\"1\" class=\"dataframe\">\n",
       "  <thead>\n",
       "    <tr style=\"text-align: right;\">\n",
       "      <th></th>\n",
       "      <th>id</th>\n",
       "      <th>position</th>\n",
       "      <th>name</th>\n",
       "      <th>score</th>\n",
       "      <th>ratings</th>\n",
       "      <th>category</th>\n",
       "      <th>price_range</th>\n",
       "      <th>full_address</th>\n",
       "      <th>zip_code</th>\n",
       "      <th>lat</th>\n",
       "      <th>lng</th>\n",
       "    </tr>\n",
       "  </thead>\n",
       "  <tbody>\n",
       "    <tr>\n",
       "      <th>551</th>\n",
       "      <td>552</td>\n",
       "      <td>23</td>\n",
       "      <td>Wild Burger (3400 Montgomery Hwy.)</td>\n",
       "      <td>4.1</td>\n",
       "      <td>500</td>\n",
       "      <td>Burgers</td>\n",
       "      <td>$$</td>\n",
       "      <td>3400 Montgomery Hwy, Dothan, AL, 36303</td>\n",
       "      <td>36303</td>\n",
       "      <td>31.25525</td>\n",
       "      <td>-85.43014</td>\n",
       "    </tr>\n",
       "    <tr>\n",
       "      <th>588</th>\n",
       "      <td>589</td>\n",
       "      <td>31</td>\n",
       "      <td>Songwriters Cafe (3320 Montgomery Highway)</td>\n",
       "      <td>4.6</td>\n",
       "      <td>500</td>\n",
       "      <td>American</td>\n",
       "      <td>$</td>\n",
       "      <td>3320 Montgomery Hwy, Dothan, AL, 36303</td>\n",
       "      <td>36303</td>\n",
       "      <td>31.25448</td>\n",
       "      <td>-85.42925</td>\n",
       "    </tr>\n",
       "    <tr>\n",
       "      <th>664</th>\n",
       "      <td>665</td>\n",
       "      <td>15</td>\n",
       "      <td>Steak 'n Shake (5901 University Drive, Suite I)</td>\n",
       "      <td>4.4</td>\n",
       "      <td>500</td>\n",
       "      <td>American</td>\n",
       "      <td>$$</td>\n",
       "      <td>5901 University Drive, Suite I, Huntsville, AL...</td>\n",
       "      <td>35806</td>\n",
       "      <td>34.73867</td>\n",
       "      <td>-86.66602</td>\n",
       "    </tr>\n",
       "    <tr>\n",
       "      <th>714</th>\n",
       "      <td>715</td>\n",
       "      <td>34</td>\n",
       "      <td>Wild Burger (7042 Highway 72 West)</td>\n",
       "      <td>4.6</td>\n",
       "      <td>500</td>\n",
       "      <td>Burgers</td>\n",
       "      <td>$$</td>\n",
       "      <td>7042 Highway 72 W, Huntsville, AL, 35806</td>\n",
       "      <td>35806</td>\n",
       "      <td>34.75441</td>\n",
       "      <td>-86.71043</td>\n",
       "    </tr>\n",
       "    <tr>\n",
       "      <th>1033</th>\n",
       "      <td>1034</td>\n",
       "      <td>58</td>\n",
       "      <td>Songwriters Cafe (3060 So. McKenzie Street)</td>\n",
       "      <td>4.6</td>\n",
       "      <td>500</td>\n",
       "      <td>American</td>\n",
       "      <td>$</td>\n",
       "      <td>3060 S McKenzie St, Foley, AL, 36535</td>\n",
       "      <td>36535</td>\n",
       "      <td>30.36941</td>\n",
       "      <td>-87.68412</td>\n",
       "    </tr>\n",
       "  </tbody>\n",
       "</table>\n",
       "</div>"
      ],
      "text/plain": [
       "        id  position                                             name  score  \\\n",
       "551    552        23               Wild Burger (3400 Montgomery Hwy.)    4.1   \n",
       "588    589        31       Songwriters Cafe (3320 Montgomery Highway)    4.6   \n",
       "664    665        15  Steak 'n Shake (5901 University Drive, Suite I)    4.4   \n",
       "714    715        34               Wild Burger (7042 Highway 72 West)    4.6   \n",
       "1033  1034        58      Songwriters Cafe (3060 So. McKenzie Street)    4.6   \n",
       "\n",
       "      ratings  category price_range  \\\n",
       "551       500   Burgers          $$   \n",
       "588       500  American           $   \n",
       "664       500  American          $$   \n",
       "714       500   Burgers          $$   \n",
       "1033      500  American           $   \n",
       "\n",
       "                                           full_address zip_code       lat  \\\n",
       "551              3400 Montgomery Hwy, Dothan, AL, 36303    36303  31.25525   \n",
       "588              3320 Montgomery Hwy, Dothan, AL, 36303    36303  31.25448   \n",
       "664   5901 University Drive, Suite I, Huntsville, AL...    35806  34.73867   \n",
       "714            7042 Highway 72 W, Huntsville, AL, 35806    35806  34.75441   \n",
       "1033               3060 S McKenzie St, Foley, AL, 36535    36535  30.36941   \n",
       "\n",
       "           lng  \n",
       "551  -85.43014  \n",
       "588  -85.42925  \n",
       "664  -86.66602  \n",
       "714  -86.71043  \n",
       "1033 -87.68412  "
      ]
     },
     "execution_count": 169,
     "metadata": {},
     "output_type": "execute_result"
    }
   ],
   "source": [
    "var = data[data['category'].isin(['American','Sandwiches','Coffee and Tea','Japanese','Burgers','Asian'])]\n",
    "var.head()"
   ]
  },
  {
   "cell_type": "code",
   "execution_count": 55,
   "id": "fd902ea5",
   "metadata": {},
   "outputs": [],
   "source": [
    "## change id to restaurant_id\n",
    "data.rename(columns={'id':'restaurant_id'}, inplace=True)"
   ]
  },
  {
   "cell_type": "markdown",
   "id": "5fdfdfdb",
   "metadata": {},
   "source": [
    "### - What are the top 10 highest-score restaurants?"
   ]
  },
  {
   "cell_type": "code",
   "execution_count": 59,
   "id": "a8c7d997",
   "metadata": {},
   "outputs": [
    {
     "data": {
      "text/html": [
       "<div>\n",
       "<style scoped>\n",
       "    .dataframe tbody tr th:only-of-type {\n",
       "        vertical-align: middle;\n",
       "    }\n",
       "\n",
       "    .dataframe tbody tr th {\n",
       "        vertical-align: top;\n",
       "    }\n",
       "\n",
       "    .dataframe thead th {\n",
       "        text-align: right;\n",
       "    }\n",
       "</style>\n",
       "<table border=\"1\" class=\"dataframe\">\n",
       "  <thead>\n",
       "    <tr style=\"text-align: right;\">\n",
       "      <th></th>\n",
       "      <th>restaurant_id</th>\n",
       "      <th>position</th>\n",
       "      <th>name</th>\n",
       "      <th>score</th>\n",
       "      <th>ratings</th>\n",
       "      <th>category</th>\n",
       "      <th>price_range</th>\n",
       "      <th>full_address</th>\n",
       "      <th>zip_code</th>\n",
       "      <th>lat</th>\n",
       "      <th>lng</th>\n",
       "    </tr>\n",
       "  </thead>\n",
       "  <tbody>\n",
       "    <tr>\n",
       "      <th>15</th>\n",
       "      <td>16</td>\n",
       "      <td>88</td>\n",
       "      <td>Jeni's Splendid Ice Cream (Pepper Place)</td>\n",
       "      <td>5.0</td>\n",
       "      <td>500.0</td>\n",
       "      <td>Ice Cream &amp;amp; Frozen Yogurt, Comfort Food, D...</td>\n",
       "      <td>$$$</td>\n",
       "      <td>219 29th St S, Birmingham, AL, 35233</td>\n",
       "      <td>35233</td>\n",
       "      <td>33.516600</td>\n",
       "      <td>-86.789950</td>\n",
       "    </tr>\n",
       "    <tr>\n",
       "      <th>156</th>\n",
       "      <td>157</td>\n",
       "      <td>66</td>\n",
       "      <td>Wasabi Juan's (Downtown)</td>\n",
       "      <td>5.0</td>\n",
       "      <td>500.0</td>\n",
       "      <td>Sushi, Burritos, Tacos</td>\n",
       "      <td>$</td>\n",
       "      <td>2201 2nd Ave S Suite 105, Birmingham, AL, 35233</td>\n",
       "      <td>35233</td>\n",
       "      <td>33.512110</td>\n",
       "      <td>-86.799920</td>\n",
       "    </tr>\n",
       "    <tr>\n",
       "      <th>240</th>\n",
       "      <td>241</td>\n",
       "      <td>14</td>\n",
       "      <td>Honey Baked Ham (7001 Crestwood Blvd, Ste 114)</td>\n",
       "      <td>5.0</td>\n",
       "      <td>500.0</td>\n",
       "      <td>Sandwich, Family Meals</td>\n",
       "      <td>$</td>\n",
       "      <td>7001 Crestwood Blvd, Ste 114, Birmingham, AL, ...</td>\n",
       "      <td>35213</td>\n",
       "      <td>33.527938</td>\n",
       "      <td>-86.730360</td>\n",
       "    </tr>\n",
       "    <tr>\n",
       "      <th>262</th>\n",
       "      <td>263</td>\n",
       "      <td>8</td>\n",
       "      <td>Cookie Dough Magic</td>\n",
       "      <td>5.0</td>\n",
       "      <td>500.0</td>\n",
       "      <td>Dessert: Other, Ice Cream + Frozen Yogurt</td>\n",
       "      <td>$</td>\n",
       "      <td>400 41st St S, 102, Birmingham, AL, 35222</td>\n",
       "      <td>35222</td>\n",
       "      <td>33.522448</td>\n",
       "      <td>-86.773424</td>\n",
       "    </tr>\n",
       "    <tr>\n",
       "      <th>326</th>\n",
       "      <td>327</td>\n",
       "      <td>95</td>\n",
       "      <td>Papa Johns (736 Montgomery Hwy)</td>\n",
       "      <td>5.0</td>\n",
       "      <td>500.0</td>\n",
       "      <td>Pizza, Wings, Sandwiches, Desserts, American, ...</td>\n",
       "      <td>$</td>\n",
       "      <td>736 Montgomery Hwy, Vestavia Hills, AL, 35216</td>\n",
       "      <td>35216</td>\n",
       "      <td>33.444900</td>\n",
       "      <td>-86.791500</td>\n",
       "    </tr>\n",
       "    <tr>\n",
       "      <th>356</th>\n",
       "      <td>357</td>\n",
       "      <td>49</td>\n",
       "      <td>Mr. Lin Chinese Restaurant</td>\n",
       "      <td>5.0</td>\n",
       "      <td>500.0</td>\n",
       "      <td>Chinese, Asian, Asian Fusion</td>\n",
       "      <td>$$</td>\n",
       "      <td>475, Helena, AL, 35080</td>\n",
       "      <td>35080</td>\n",
       "      <td>33.279000</td>\n",
       "      <td>-86.851100</td>\n",
       "    </tr>\n",
       "    <tr>\n",
       "      <th>410</th>\n",
       "      <td>411</td>\n",
       "      <td>94</td>\n",
       "      <td>Great American Cookies (Riverchase Galleria)</td>\n",
       "      <td>5.0</td>\n",
       "      <td>500.0</td>\n",
       "      <td>Bakery, Desserts, Comfort Food</td>\n",
       "      <td>$</td>\n",
       "      <td>2000 Riverchase Galleria, Birmingham, AL, 35244</td>\n",
       "      <td>35244</td>\n",
       "      <td>33.379202</td>\n",
       "      <td>-86.808796</td>\n",
       "    </tr>\n",
       "    <tr>\n",
       "      <th>615</th>\n",
       "      <td>616</td>\n",
       "      <td>1</td>\n",
       "      <td>Tropical Smoothie Cafe - 3230 Ross Clark Circl...</td>\n",
       "      <td>5.0</td>\n",
       "      <td>500.0</td>\n",
       "      <td>Juice and Smoothies, Healthy, Fast Food</td>\n",
       "      <td>$</td>\n",
       "      <td>3230 Ross Clark Circle, Suite 3, Dothan, AL, 3...</td>\n",
       "      <td>36303</td>\n",
       "      <td>31.234995</td>\n",
       "      <td>-85.431238</td>\n",
       "    </tr>\n",
       "    <tr>\n",
       "      <th>632</th>\n",
       "      <td>633</td>\n",
       "      <td>10</td>\n",
       "      <td>Firehouse Subs (3255 South Oates Street. Suite 8)</td>\n",
       "      <td>5.0</td>\n",
       "      <td>500.0</td>\n",
       "      <td>Sandwich, Deli</td>\n",
       "      <td>$</td>\n",
       "      <td>3255 South Oates Street. Suite 8, Dothan, AL, ...</td>\n",
       "      <td>36301</td>\n",
       "      <td>31.179849</td>\n",
       "      <td>-85.401010</td>\n",
       "    </tr>\n",
       "    <tr>\n",
       "      <th>749</th>\n",
       "      <td>750</td>\n",
       "      <td>62</td>\n",
       "      <td>Hunt Brothers Pizza</td>\n",
       "      <td>5.0</td>\n",
       "      <td>500.0</td>\n",
       "      <td>American, Italian, Wings</td>\n",
       "      <td>$$</td>\n",
       "      <td>6090 Old Madison Pike NW, Huntsville, AL, 35806</td>\n",
       "      <td>35806</td>\n",
       "      <td>34.713470</td>\n",
       "      <td>-86.658061</td>\n",
       "    </tr>\n",
       "  </tbody>\n",
       "</table>\n",
       "</div>"
      ],
      "text/plain": [
       "     restaurant_id  position  \\\n",
       "15              16        88   \n",
       "156            157        66   \n",
       "240            241        14   \n",
       "262            263         8   \n",
       "326            327        95   \n",
       "356            357        49   \n",
       "410            411        94   \n",
       "615            616         1   \n",
       "632            633        10   \n",
       "749            750        62   \n",
       "\n",
       "                                                  name  score  ratings  \\\n",
       "15            Jeni's Splendid Ice Cream (Pepper Place)    5.0    500.0   \n",
       "156                           Wasabi Juan's (Downtown)    5.0    500.0   \n",
       "240     Honey Baked Ham (7001 Crestwood Blvd, Ste 114)    5.0    500.0   \n",
       "262                                 Cookie Dough Magic    5.0    500.0   \n",
       "326                    Papa Johns (736 Montgomery Hwy)    5.0    500.0   \n",
       "356                         Mr. Lin Chinese Restaurant    5.0    500.0   \n",
       "410       Great American Cookies (Riverchase Galleria)    5.0    500.0   \n",
       "615  Tropical Smoothie Cafe - 3230 Ross Clark Circl...    5.0    500.0   \n",
       "632  Firehouse Subs (3255 South Oates Street. Suite 8)    5.0    500.0   \n",
       "749                                Hunt Brothers Pizza    5.0    500.0   \n",
       "\n",
       "                                              category price_range  \\\n",
       "15   Ice Cream &amp; Frozen Yogurt, Comfort Food, D...         $$$   \n",
       "156                             Sushi, Burritos, Tacos           $   \n",
       "240                             Sandwich, Family Meals           $   \n",
       "262          Dessert: Other, Ice Cream + Frozen Yogurt           $   \n",
       "326  Pizza, Wings, Sandwiches, Desserts, American, ...           $   \n",
       "356                       Chinese, Asian, Asian Fusion          $$   \n",
       "410                     Bakery, Desserts, Comfort Food           $   \n",
       "615            Juice and Smoothies, Healthy, Fast Food           $   \n",
       "632                                     Sandwich, Deli           $   \n",
       "749                           American, Italian, Wings          $$   \n",
       "\n",
       "                                          full_address zip_code        lat  \\\n",
       "15                219 29th St S, Birmingham, AL, 35233    35233  33.516600   \n",
       "156    2201 2nd Ave S Suite 105, Birmingham, AL, 35233    35233  33.512110   \n",
       "240  7001 Crestwood Blvd, Ste 114, Birmingham, AL, ...    35213  33.527938   \n",
       "262          400 41st St S, 102, Birmingham, AL, 35222    35222  33.522448   \n",
       "326      736 Montgomery Hwy, Vestavia Hills, AL, 35216    35216  33.444900   \n",
       "356                             475, Helena, AL, 35080    35080  33.279000   \n",
       "410    2000 Riverchase Galleria, Birmingham, AL, 35244    35244  33.379202   \n",
       "615  3230 Ross Clark Circle, Suite 3, Dothan, AL, 3...    36303  31.234995   \n",
       "632  3255 South Oates Street. Suite 8, Dothan, AL, ...    36301  31.179849   \n",
       "749    6090 Old Madison Pike NW, Huntsville, AL, 35806    35806  34.713470   \n",
       "\n",
       "           lng  \n",
       "15  -86.789950  \n",
       "156 -86.799920  \n",
       "240 -86.730360  \n",
       "262 -86.773424  \n",
       "326 -86.791500  \n",
       "356 -86.851100  \n",
       "410 -86.808796  \n",
       "615 -85.431238  \n",
       "632 -85.401010  \n",
       "749 -86.658061  "
      ]
     },
     "execution_count": 59,
     "metadata": {},
     "output_type": "execute_result"
    }
   ],
   "source": [
    "## list the top 10 restaurants in score\n",
    "data[data['score']==np.max(data['score'])].head(10)"
   ]
  },
  {
   "cell_type": "markdown",
   "id": "0015ad5e",
   "metadata": {},
   "source": [
    "### - Which cuisine categories are most common in the dataset?"
   ]
  },
  {
   "cell_type": "code",
   "execution_count": 78,
   "id": "1aee1083",
   "metadata": {},
   "outputs": [
    {
     "name": "stdout",
     "output_type": "stream",
     "text": [
      "Burgers, American, Sandwiches           1606\n",
      "Mexican, Latin American, New Mexican    1161\n",
      "Fast Food, Sandwich, American            837\n",
      "Pizza, American, Italian                 707\n",
      "American, Burgers, Fast Food             685\n",
      "Name: category, dtype: int64\n"
     ]
    }
   ],
   "source": [
    "# list the top 5 categories \n",
    "var = data['category'].value_counts()\n",
    "print(var.head(5))"
   ]
  },
  {
   "cell_type": "code",
   "execution_count": 84,
   "id": "317da825",
   "metadata": {},
   "outputs": [
    {
     "data": {
      "image/png": "[encoded data removed]",
      "text/plain": [
       "<Figure size 640x480 with 1 Axes>"
      ]
     },
     "metadata": {},
     "output_type": "display_data"
    }
   ],
   "source": [
    "category = ['Burgers','Mexican','Fast Food','Pizza','American']\n",
    "nums     = [1606,1161,837,707,685]\n",
    "\n",
    "# plot the pie chart\n",
    "plt.pie(nums,labels=category,autopct='%1.1f%%')\n",
    "plt.title('top 5 categories')\n",
    "\n",
    "plt.show()"
   ]
  },
  {
   "cell_type": "markdown",
   "id": "d3d1acef",
   "metadata": {},
   "source": [
    "### - Which zip codes have the most restaurants?"
   ]
  },
  {
   "cell_type": "code",
   "execution_count": 83,
   "id": "99ed503e",
   "metadata": {
    "scrolled": true
   },
   "outputs": [
    {
     "name": "stdout",
     "output_type": "stream",
     "text": [
      "98052    185\n",
      "22314    185\n",
      "22030    175\n",
      "Name: zip_code, dtype: int64\n"
     ]
    }
   ],
   "source": [
    "# zip codes have the most restaurants \n",
    "\n",
    "var2 = data['zip_code'].value_counts()\n",
    "print(var2.head(3))"
   ]
  },
  {
   "cell_type": "markdown",
   "id": "d81e4d98",
   "metadata": {},
   "source": [
    "### - Is there a relationship between price range and rating?"
   ]
  },
  {
   "cell_type": "code",
   "execution_count": 93,
   "id": "4e9b4ea5",
   "metadata": {},
   "outputs": [
    {
     "name": "stdout",
     "output_type": "stream",
     "text": [
      "price_range\n",
      "$       4.582227\n",
      "$$      4.566983\n",
      "$$$     4.625532\n",
      "$$$$    4.603333\n",
      "Name: score, dtype: float64\n"
     ]
    }
   ],
   "source": [
    "# Group by price_range and get average rating\n",
    "avg_rating_by_price = data.groupby('price_range')['score'].mean().sort_index()\n",
    "\n",
    "print(avg_rating_by_price)"
   ]
  },
  {
   "cell_type": "code",
   "execution_count": 99,
   "id": "e84d8fe8",
   "metadata": {},
   "outputs": [
    {
     "name": "stdout",
     "output_type": "stream",
     "text": [
      "F-statistic: 15.042281486878323\n",
      "P-value: 8.802519620599879e-10\n"
     ]
    }
   ],
   "source": [
    "from scipy.stats import f_oneway\n",
    "\n",
    "# Group scores by price range\n",
    "grouped_scores = [group['score'].values for name, group in data.groupby('price_range') if len(group) > 1]\n",
    "\n",
    "# Perform ANOVA test\n",
    "anova_result = f_oneway(*grouped_scores)\n",
    "\n",
    "print(f\"F-statistic: {anova_result.statistic}\")\n",
    "print(f\"P-value: {anova_result.pvalue}\")"
   ]
  },
  {
   "cell_type": "markdown",
   "id": "42808787",
   "metadata": {},
   "source": [
    "#### - The Answer :- Yes, There is a statistically significant relationship between price_range and score"
   ]
  },
  {
   "cell_type": "markdown",
   "id": "c6aaf60f",
   "metadata": {},
   "source": [
    "## 7- Conclusion:-"
   ]
  },
  {
   "cell_type": "markdown",
   "id": "07daf61b",
   "metadata": {},
   "source": [
    "### We explore the Ubereats dataset and learn more about data attributes then jump into how to visualize the data                               with Exploratory Data Analysis. \n",
    "- We saw some basic and advanced level charts of seaborn and matplotlib like (Pie-chart, Bar chart, Countplot).\n",
    "###         - Questions we answered : -\n",
    "\n",
    "🏆 What are the top 10 highest-rated restaurants?\n",
    "\n",
    "🍽️ Which cuisine categories are most common in the dataset?\n",
    "\n",
    "💬 Is there a relationship between price range and rating?\n",
    "\n",
    "📍 Which zip codes have the most restaurants?"
   ]
  },
  {
   "cell_type": "markdown",
   "id": "b9b3c407",
   "metadata": {},
   "source": [
    "### Export cleaning dataset to csv for using in power bi"
   ]
  },
  {
   "cell_type": "code",
   "execution_count": 186,
   "id": "df4eaa68",
   "metadata": {},
   "outputs": [],
   "source": [
    "## save the data and go to power bi report \n",
    "data.to_csv('cleaned_uber_eats.csv', index=False)"
   ]
  },
  {
   "cell_type": "markdown",
   "id": "3c408f16",
   "metadata": {},
   "source": [
    "- Done"
   ]
  }
 ],
 "metadata": {
  "kernelspec": {
   "display_name": "Python 3 (ipykernel)",
   "language": "python",
   "name": "python3"
  },
  "language_info": {
   "codemirror_mode": {
    "name": "ipython",
    "version": 3
   },
   "file_extension": ".py",
   "mimetype": "text/x-python",
   "name": "python",
   "nbconvert_exporter": "python",
   "pygments_lexer": "ipython3",
   "version": "3.9.13"
  }
 },
 "nbformat": 4,
 "nbformat_minor": 5
}
